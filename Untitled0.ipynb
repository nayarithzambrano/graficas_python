{
  "nbformat": 4,
  "nbformat_minor": 0,
  "metadata": {
    "colab": {
      "provenance": [],
      "authorship_tag": "ABX9TyMUPCjph/6k9RUMv5QLHU8W",
      "include_colab_link": true
    },
    "kernelspec": {
      "name": "python3",
      "display_name": "Python 3"
    },
    "language_info": {
      "name": "python"
    }
  },
  "cells": [
    {
      "cell_type": "markdown",
      "metadata": {
        "id": "view-in-github",
        "colab_type": "text"
      },
      "source": [
        "<a href=\"https://colab.research.google.com/github/nayarithzambrano/graficas_python/blob/main/Untitled0.ipynb\" target=\"_parent\"><img src=\"https://colab.research.google.com/assets/colab-badge.svg\" alt=\"Open In Colab\"/></a>"
      ]
    },
    {
      "cell_type": "markdown",
      "source": [
        "### grafica de una funcion lineal\n"
      ],
      "metadata": {
        "id": "6B5UVZOkfQGW"
      }
    },
    {
      "cell_type": "code",
      "execution_count": 5,
      "metadata": {
        "id": "o__V7PRyfJFd"
      },
      "outputs": [],
      "source": [
        "# importamos las librerias numpy y matplotlib y le asignamos un alias\n",
        "\n",
        "import numpy as np\n",
        "import matplotlib.pyplot as plt"
      ]
    },
    {
      "cell_type": "code",
      "source": [
        "# programa para graficar una linea recta, con base en la ecuacion y = mx + b\n",
        "# m es la pendiente de la recta\n",
        "# b es el punto de corte con el eje y\n",
        "\n",
        "# numeros de puntos a graficar\n",
        "N = 100\n",
        "\n",
        "# funcion para calcular los valores de y\n",
        "def f(m,x,b):\n",
        "  return m*x + b\n",
        "# input\n",
        "print(\"---------------------------------\")\n",
        "print(\"-------funcion lineal------------\")\n",
        "print(\"-------y = mx + b ---------------\")\n",
        "print(\"---------------------------------\")\n",
        "\n",
        "m = int(input(\"digite el valor de la pendiente:\"))\n",
        "b = int(input(\"digite el valor del punto de corte con el eje y:\"))\n",
        "\n",
        "# processing - graphication\n",
        "x = np.linspace(-10,10,num = N)\n",
        "y = f(m, x,b)\n",
        "\n",
        "plt.plot(x,y, color =\"r\")\n",
        "plt.xlabel(\"x\")\n",
        "plt.xlabel(\"y\")\n",
        "plt. title(\"funcion lineal\")\n",
        "plt.grid()\n",
        "plt.axhline(y=0, color=\"b\")\n",
        "plt.axvline(x=0, color=\"b\")\n",
        "plt.show()\n",
        "plt.savefig(\"funcion_lineal.png\")\n"
      ],
      "metadata": {
        "colab": {
          "base_uri": "https://localhost:8080/",
          "height": 417
        },
        "id": "UzrB5xScf68p",
        "outputId": "bdd6e33f-bbcd-491c-97a1-d48cc25ee5a3"
      },
      "execution_count": 7,
      "outputs": [
        {
          "name": "stdout",
          "output_type": "stream",
          "text": [
            "---------------------------------\n",
            "-------funcion lineal------------\n",
            "-------y = mx + b ---------------\n",
            "---------------------------------\n",
            "digite el valor de la pendiente:1\n",
            "digite el valor del punto de corte con el eje y:0\n"
          ]
        },
        {
          "output_type": "display_data",
          "data": {
            "text/plain": [
              "<Figure size 432x288 with 1 Axes>"
            ],
            "image/png": "[encoded data removed]"
          },
          "metadata": {
            "needs_background": "light"
          }
        },
        {
          "output_type": "display_data",
          "data": {
            "text/plain": [
              "<Figure size 432x288 with 0 Axes>"
            ]
          },
          "metadata": {}
        }
      ]
    }
  ]
}